{
  "nbformat": 4,
  "nbformat_minor": 0,
  "metadata": {
    "colab": {
      "provenance": []
    },
    "kernelspec": {
      "name": "python3",
      "display_name": "Python 3"
    },
    "language_info": {
      "name": "python"
    }
  },
  "cells": [
    {
      "cell_type": "code",
      "execution_count": 20,
      "metadata": {
        "id": "5Lh6FXVfOzyg"
      },
      "outputs": [],
      "source": [
        "from scipy import stats"
      ]
    },
    {
      "cell_type": "code",
      "source": [
        "x = [151,174,138,186,128,136,179,163,152,131,166]"
      ],
      "metadata": {
        "id": "AZxB4dJrPx8f"
      },
      "execution_count": 21,
      "outputs": []
    },
    {
      "cell_type": "code",
      "source": [
        "y = [63,81,56,91,47,57,76,72,62,48,62]"
      ],
      "metadata": {
        "id": "IT5_qVvIQBwi"
      },
      "execution_count": 22,
      "outputs": []
    },
    {
      "cell_type": "code",
      "source": [
        "slope, intercept, r, p, std_err = stats.linregress(x,y)"
      ],
      "metadata": {
        "id": "KHK7Ty9pQcPj"
      },
      "execution_count": 23,
      "outputs": []
    },
    {
      "cell_type": "code",
      "source": [
        "def mamadfunc(x):\n",
        "  return slope * x + intercept"
      ],
      "metadata": {
        "id": "8Ubuw-OZQ4Rf"
      },
      "execution_count": 24,
      "outputs": []
    },
    {
      "cell_type": "code",
      "source": [
        "berat_badan = mamadfunc(166)"
      ],
      "metadata": {
        "id": "8sG5XECjRT1L"
      },
      "execution_count": 25,
      "outputs": []
    },
    {
      "cell_type": "code",
      "source": [
        "print(berat_badan)"
      ],
      "metadata": {
        "colab": {
          "base_uri": "https://localhost:8080/"
        },
        "id": "4NI20Y7rRdZZ",
        "outputId": "3b1f9c56-b094-44d8-ce0d-2f9de876ae08"
      },
      "execution_count": 26,
      "outputs": [
        {
          "output_type": "stream",
          "name": "stdout",
          "text": [
            "72.13295444374833\n"
          ]
        }
      ]
    }
  ]
}